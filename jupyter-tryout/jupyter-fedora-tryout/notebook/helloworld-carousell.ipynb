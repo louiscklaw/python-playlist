{
 "cells": [
  {
   "cell_type": "code",
   "execution_count": 1,
   "id": "7bd23c02",
   "metadata": {
    "scrolled": true
   },
   "outputs": [
    {
     "name": "stdout",
     "output_type": "stream",
     "text": [
      "Requirement already satisfied: requests in /usr/local/lib/python3.12/site-packages (2.31.0)\n",
      "Requirement already satisfied: charset-normalizer<4,>=2 in /usr/local/lib/python3.12/site-packages (from requests) (3.3.2)\n",
      "Requirement already satisfied: idna<4,>=2.5 in /usr/local/lib/python3.12/site-packages (from requests) (3.6)\n",
      "Requirement already satisfied: urllib3<3,>=1.21.1 in /usr/local/lib/python3.12/site-packages (from requests) (2.2.0)\n",
      "Requirement already satisfied: certifi>=2017.4.17 in /usr/local/lib/python3.12/site-packages (from requests) (2024.2.2)\n",
      "\u001b[33mWARNING: Running pip as the 'root' user can result in broken permissions and conflicting behaviour with the system package manager. It is recommended to use a virtual environment instead: https://pip.pypa.io/warnings/venv\u001b[0m\u001b[33m\n",
      "\u001b[0m\n",
      "\u001b[1m[\u001b[0m\u001b[34;49mnotice\u001b[0m\u001b[1;39;49m]\u001b[0m\u001b[39;49m A new release of pip is available: \u001b[0m\u001b[31;49m23.2.1\u001b[0m\u001b[39;49m -> \u001b[0m\u001b[32;49m24.0\u001b[0m\n",
      "\u001b[1m[\u001b[0m\u001b[34;49mnotice\u001b[0m\u001b[1;39;49m]\u001b[0m\u001b[39;49m To update, run: \u001b[0m\u001b[32;49mpip install --upgrade pip\u001b[0m\n"
     ]
    }
   ],
   "source": [
    "!pip install requests"
   ]
  },
  {
   "cell_type": "code",
   "execution_count": 2,
   "id": "b6bf609f",
   "metadata": {},
   "outputs": [],
   "source": [
    "import copy\n",
    "import requests\n",
    "from pprint import pprint\n",
    "import re"
   ]
  },
  {
   "cell_type": "code",
   "execution_count": 3,
   "id": "9b24b4df",
   "metadata": {},
   "outputs": [],
   "source": [
    "searchURL = 'https://www.carousell.com.hk/u/Nssheung/reviews/'"
   ]
  },
  {
   "cell_type": "code",
   "execution_count": 4,
   "id": "1cc7f2dc",
   "metadata": {},
   "outputs": [],
   "source": [
    "searchResp = requests.get(url=searchURL)"
   ]
  },
  {
   "cell_type": "code",
   "execution_count": 5,
   "id": "e14b2aa1",
   "metadata": {},
   "outputs": [
    {
     "name": "stdout",
     "output_type": "stream",
     "text": [
      "('<!DOCTYPE html><html lang=\"en-US\"><head><title>Just a moment...</title><meta '\n",
      " 'http-equiv=\"Content-Type\" content=\"text/html; charset=UTF-8\"><meta '\n",
      " 'http-equiv=\"X-UA-Compatible\" content=\"IE=Edge\"><meta name=\"robots\" '\n",
      " 'content=\"noindex,nofollow\"><meta name=\"viewport\" '\n",
      " 'content=\"width=device-width,initial-scale=1\"><style>*{box-sizing:border-box;margin:0;padding:0}html{line-height:1.15;-webkit-text-size-adjust:100%;color:#313131;font-family:system-ui,-apple-system,BlinkMacSystemFont,Segoe '\n",
      " 'UI,Roboto,Helvetica Neue,Arial,Noto Sans,sans-serif,\"Apple Color '\n",
      " 'Emoji\",\"Segoe UI Emoji\",Segoe UI Symbol,\"Noto Color '\n",
      " 'Emoji\"}button{font-family:system-ui,-apple-system,BlinkMacSystemFont,Segoe '\n",
      " 'UI,Roboto,Helvetica Neue,Arial,Noto Sans,sans-serif,\"Apple Color '\n",
      " 'Emoji\",\"Segoe UI Emoji\",Segoe UI Symbol,\"Noto Color Emoji\"}@mixin '\n",
      " 'dark-mode{background-color: #222; color: #d9d9d9; a {color: #fff; &:hover '\n",
      " '{text-decoration: underline; color: #ee730a;}} .lds-ring div {border-color: '\n",
      " '#999 transparent transparent;} .font-red {color: #b20f03;} '\n",
      " '.big-button,.pow-button {background-color: #4693ff; color: #1d1d1d;} '\n",
      " '#challenge-success-text {background-image: '\n",
      " 'url(data:image/svg+xml;base64,PHN2ZyB4bWxucz0iaHR0cDovL3d3dy53My5vcmcvMjAwMC9zdmciIHdpZHRoPSIzMiIgaGVpZ2h0PSIzMiIgZmlsbD0ibm9uZSIgdmlld0JveD0iMCAwIDI2IDI2Ij48cGF0aCBmaWxsPSIjZDlkOWQ5IiBkPSJNMTMgMGExMyAxMyAwIDEgMCAwIDI2IDEzIDEzIDAgMCAwIDAtMjZtMCAyNGExMSAxMSAwIDEgMSAwLTIyIDExIDExIDAgMCAxIDAgMjIiLz48cGF0aCBmaWxsPSIjZDlkOWQ5IiBkPSJtMTAuOTU1IDE2LjA1NS0zLjk1LTQuMTI1LTEuNDQ1IDEuMzg1IDUuMzcgNS42MSA5LjQ5NS05LjYtMS40Mi0xLjQwNXoiLz48L3N2Zz4);}}@mixin '\n",
      " 'light-mode{background-color: transparent; color: #313131; a {color: #0051c3; '\n",
      " '&:hover {text-decoration: underline; color: #ee730a;}} .lds-ring div '\n",
      " '{border-color: #595959 transparent transparent;} .font-red {color: #fc574a;} '\n",
      " '.big-button,.pow-button {border-color: #003681; background-color: #003681; '\n",
      " 'color: #fff;} #challenge-success-text {background-image: '\n",
      " 'url(data:image/svg+xml;base64,PHN2ZyB4bWxucz0iaHR0cDovL3d3dy53My5vcmcvMjAwMC9zdmciIHdpZHRoPSIzMiIgaGVpZ2h0PSIzMiIgZmlsbD0ibm9uZSIgdmlld0JveD0iMCAwIDI2IDI2Ij48cGF0aCBmaWxsPSIjMzEzMTMxIiBkPSJNMTMgMGExMyAxMyAwIDEgMCAwIDI2IDEzIDEzIDAgMCAwIDAtMjZtMCAyNGExMSAxMSAwIDEgMSAwLTIyIDExIDExIDAgMCAxIDAgMjIiLz48cGF0aCBmaWxsPSIjMzEzMTMxIiBkPSJtMTAuOTU1IDE2LjA1NS0zLjk1LTQuMTI1LTEuNDQ1IDEuMzg1IDUuMzcgNS42MSA5LjQ5NS05LjYtMS40Mi0xLjQwNXoiLz48L3N2Zz4=);}}@media '\n",
      " '(prefers-color-scheme: dark){body{@include '\n",
      " 'dark-mode;}}body{display:flex;flex-direction:column;min-height:100vh;&.no-js{.loading-spinner{visibility:hidden}.challenge-running{display:none}}&.dark{@include '\n",
      " 'dark-mode;}&.light{@include light-mode;}}a{transition:color .15s '\n",
      " 'ease;background-color:transparent;text-decoration:none;color:#0051c3;&:hover{text-decoration:underline;color:#ee730a}}.main-content{margin:8rem '\n",
      " 'auto;width:100%;max-width:60rem}.heading-favicon{margin-right:.5rem;width:2rem;height:2rem}@media '\n",
      " '(width <= '\n",
      " '720px){.main-content{margin-top:4rem}.heading-favicon{width:1.5rem;height:1.5rem}}.main-content,.footer{padding-right:1.5rem;padding-left:1.5rem}.main-wrapper{display:flex;flex:1;flex-direction:column;align-items:center}.font-red{color:#b20f03}.spacer{margin:2rem '\n",
      " '0}.h1{line-height:3.75rem;font-size:2.5rem;font-weight:500}.h2{line-height:2.25rem;font-size:1.5rem;font-weight:500}.core-msg{line-height:2.25rem;font-size:1.5rem;font-weight:400}.body-text{line-height:1.25rem;font-size:1rem;font-weight:400}@media '\n",
      " '(width <= '\n",
      " '720px){.h1{line-height:1.75rem;font-size:1.5rem}.h2{line-height:1.5rem;font-size:1.25rem}.core-msg{line-height:1.5rem;font-size:1rem}}#challenge-error-text{background-image:url(data:image/svg+xml;base64,PHN2ZyB4bWxucz0iaHR0cDovL3d3dy53My5vcmcvMjAwMC9zdmciIHdpZHRoPSIzMiIgaGVpZ2h0PSIzMiIgZmlsbD0ibm9uZSI+PHBhdGggZmlsbD0iI0IyMEYwMyIgZD0iTTE2IDNhMTMgMTMgMCAxIDAgMTMgMTNBMTMuMDE1IDEzLjAxNSAwIDAgMCAxNiAzbTAgMjRhMTEgMTEgMCAxIDEgMTEtMTEgMTEuMDEgMTEuMDEgMCAwIDEtMTEgMTEiLz48cGF0aCBmaWxsPSIjQjIwRjAzIiBkPSJNMTcuMDM4IDE4LjYxNUgxNC44N0wxNC41NjMgOS41aDIuNzgzem0tMS4wODQgMS40MjdxLjY2IDAgMS4wNTcuMzg4LjQwNy4zODkuNDA3Ljk5NCAwIC41OTYtLjQwNy45ODQtLjM5Ny4zOS0xLjA1Ny4zODktLjY1IDAtMS4wNTYtLjM4OS0uMzk4LS4zODktLjM5OC0uOTg0IDAtLjU5Ny4zOTgtLjk4NS40MDYtLjM5NyAxLjA1Ni0uMzk3Ii8+PC9zdmc+);background-repeat:no-repeat;background-size:contain;padding-left:34px}#challenge-success-text{background-image:url(data:image/svg+xml;base64,PHN2ZyB4bWxucz0iaHR0cDovL3d3dy53My5vcmcvMjAwMC9zdmciIHdpZHRoPSIzMiIgaGVpZ2h0PSIzMiIgZmlsbD0ibm9uZSIgdmlld0JveD0iMCAwIDI2IDI2Ij48cGF0aCBmaWxsPSIjMzEzMTMxIiBkPSJNMTMgMGExMyAxMyAwIDEgMCAwIDI2IDEzIDEzIDAgMCAwIDAtMjZtMCAyNGExMSAxMSAwIDEgMSAwLTIyIDExIDExIDAgMCAxIDAgMjIiLz48cGF0aCBmaWxsPSIjMzEzMTMxIiBkPSJtMTAuOTU1IDE2LjA1NS0zLjk1LTQuMTI1LTEuNDQ1IDEuMzg1IDUuMzcgNS42MSA5LjQ5NS05LjYtMS40Mi0xLjQwNXoiLz48L3N2Zz4=);background-repeat:no-repeat;background-size:contain;padding-left:42px}.text-center{text-align:center}.big-button{transition-duration:.2s;transition-property:background-color,border-color,color;transition-timing-function:ease;border:.063rem '\n",
      " 'solid #0051c3;border-radius:.313rem;padding:.375rem '\n",
      " '1rem;line-height:1.313rem;font-size:.875rem;&:hover{cursor:pointer}}.captcha-prompt:not(.hidden){display:flex}@media '\n",
      " '(width <= '\n",
      " '720px){.captcha-prompt:not(.hidden){flex-wrap:wrap;justify-content:center}}.pow-button{margin:2rem '\n",
      " '0;background-color:#0051c3;color:#fff;&:hover{border-color:#003681;background-color:#003681;color:#fff}}.footer{margin:0 '\n",
      " 'auto;width:100%;max-width:60rem;line-height:1.125rem;font-size:.75rem}.footer-inner{border-top:1px '\n",
      " 'solid '\n",
      " '#d9d9d9;padding-top:1rem;padding-bottom:1rem}.clearfix{&:after{display:table;clear:both;content:\"\"}.column{float:left;padding-right:1.5rem;width:50%}}.diagnostic-wrapper{margin-bottom:.5rem}.footer '\n",
      " '.ray-id{text-align:center;code{font-family:monaco,courier,monospace}}.core-msg,.zone-name-title{overflow-wrap:break-word}@media '\n",
      " '(width <= '\n",
      " '720px){.diagnostic-wrapper{display:flex;flex-wrap:wrap;justify-content:center}.clearfix:after{display:initial;clear:none;text-align:center;content:none}.column{padding-bottom:2rem}.clearfix '\n",
      " '.column{float:none;padding:0;width:auto;word-break:keep-all}.zone-name-title{margin-bottom:1rem}}.loading-spinner{height:76.391px}.lds-ring{display:inline-block;position:relative;width:1.875rem;height:1.875rem;div{box-sizing:border-box;display:block;position:absolute;border:.3rem '\n",
      " 'solid #595959;border-radius:50%;border-color:#313131 transparent '\n",
      " 'transparent;width:1.875rem;height:1.875rem;animation:lds-ring 1.2s '\n",
      " 'cubic-bezier(.5,0,.5,1) '\n",
      " 'infinite;&:nth-child(1){animation-delay:-.45s}&:nth-child(2){animation-delay:-.3s}&:nth-child(3){animation-delay:-.15s}}}@keyframes '\n",
      " 'lds-ring{0%{transform:rotate(0)}to{transform:rotate(360deg)}}@media screen '\n",
      " 'and (-ms-high-contrast: active),screen and (-ms-high-contrast: '\n",
      " 'none){body,.main-wrapper{display:block}}</style><meta http-equiv=\"refresh\" '\n",
      " 'content=\"375\"></head><body class=\"no-js\"><div class=\"main-wrapper\" '\n",
      " 'role=\"main\"><div class=\"main-content\"><noscript><div '\n",
      " 'id=\"challenge-error-title\"><div class=\"h2\"><span '\n",
      " 'id=\"challenge-error-text\">Enable JavaScript and cookies to '\n",
      " 'continue</span></div></div></noscript></div></div><script>(function(){window._cf_chl_opt={cvId: '\n",
      " '\\'3\\',cZone: \"www.carousell.com.hk\",cType: \\'managed\\',cNounce: '\n",
      " \"'54375',cRay: '84fcc358b9c084cd',cHash: '9cf591cdeb4d5c9',cUPMDTk: \"\n",
      " '\"\\\\/u\\\\/Nssheung\\\\/reviews\\\\/?__cf_chl_tk=TmDoVhG9fLIs9RxGOg9uwsHaQZvgpdxXhUeD4h7hLIg-1706985214-0-gaNycGzNDmU\",cFPWv: '\n",
      " \"'b',cTTimeMs: '1000',cMTimeMs: '375000',cTplV: 5,cTplB: 'cf',cK: \"\n",
      " '\"visitor-time\",fa: '\n",
      " '\"\\\\/u\\\\/Nssheung\\\\/reviews\\\\/?__cf_chl_f_tk=TmDoVhG9fLIs9RxGOg9uwsHaQZvgpdxXhUeD4h7hLIg-1706985214-0-gaNycGzNDmU\",md: '\n",
      " '\"d6DYv2Os_xD6trgp4AA0UqYGxo6Z7.14S9kDIggAc3Q-1706985214-1-AbWbhqFPUdaCKyzJDezWAhv5klwn75Bvfj3w7hiDoM-nVVdtN55QXTXiSvKkhuJ2Bv2QP5UkTs_v9xye7GAShiZORMWi39AMUAT5HYJedFj-jKCXVMBfHZsH_KV-FGVcLo0LrmbPJnF0tnGIrGpgke2xemTwjJEZp6TaTYi9G3PPzmX0oZDP7J2tcWoAo20bwCqmKGhGwjlzj6B6oxwKQFuSmC--yJZTEahVBmp_4I51kg1oZIW3hKosKey1tnZ-wkUp1cMmYACpuzYVFTlOURPiOQritimB9904TJYKwo-fXzWvZl4zg2jHfTPud_duUNqf0un_k6ehrfYOMxU_a9Oi7Uvzh5cviB0rDNZJ-gQGO0Ar2oO63QYFATCbuNoXVqzIOkUOOc2SHJO7zoueTykyoqz2ZV5nElH1F8crKrzTV4m7bsbxqq2AKnEOe7xA2bERrxb7e1onLO3cKcMJly8iawfPSjNqiVMJS-tSyAVJXfBIx06a5h5pNasmg35mwtVJ6GaU5JS0Pnp9AESO9VkFyjGrHDh3ZrJSYdOy0-thTf9af_NsSiTJA_t_wk_XYRpN-JExo7J8dMRaUtyZI9gjR0KDkgVgmVD14mr6PMgSB-h1rY1_okiDF0UT_5bLWLIhr5AztjUAn8XMxhduEZ0t0Sk90WMf_tdq4HJlKjodSoES-KjViurXzb1Zt9ZJV_DPQH_QJPTesGpokuK7mhvt48h32e90IcOaSo9PwkhkNFFSPajan6StpQkQb5QrnD_mAbg0_XkA8gpsiwiJhZNEQctbBL9wYM9YF2AkVtSzXrHg9jAMiZwYgdcuV4U4vW1s6PjyCep6ttn3LOwwkhnu51BYSY4mN2tzVRdGxwi-LcOjcl55Zc0A4zDIzOXj3bCXkKA45E1y0UqmCBRktt-P3wfI8dK4Pajv4-kBfs1MkIfEsgd9FegcM64QSCXyxFjXUvB12bO1bqwAiO9YZvCyWibV1TR6wEzceO4vQamoYI9bpP4eyzSTPcppK_Jk8Hvkc5ro95JIbF7_Bp_ScMJLorrdKB30-O9T78DVjE8RVIhWmlpVmorFHjOABO_Kvnlf6gzssV7z4Pn2vS1Iv9glH27biNpuDZGzqc2os3i0aTT7F1OzaY5Y9rgsrebSfjO5_gEF8gKZBZmqxwtoU2aHGdxqQgYR9cewNv7MOMnPNlOdWuQWJrQkbOCwmq5FaSU4ntRviOFlqaelmLndAcuLP_dd7ZjCoOcV4uF2rH4uKvP62F2iM8EjmfQLEGJPrY1hKAQoeyh2Rl9N_JNhly8lGc_3_PNjEifCFFq0I7QcUPqo8Mt1AxMgrDGmDyqmrsDrEXlQAol3LCUNaeUGMjYnpyzDZHXC6-xKnrxEGhn1X9fp-lOzJn7uWD3j0gG0vmAbl0qaB65Gm1FzOX2fYrRqyi8pG5_pd8X--qudZkbT6rAVVPAhc16p33ir4_CxOtY9WGz6dv33A3ZuzRDnnkFvYUnhC7yJ68g8JHypQjAe7YK1xq1n_R6RS9dQ9FPhVVgKfH2j9gSUWIIkBCM9Ra7eWbfIIUzg4WBxbwCcgcAyPXLTFTiaX5d-oAJ7sgTYzLJ949faNAzKKv3-8JXdaEu3gClLy8-njvmCMK-pX3gQ3Iud-O2EjPDdC1ddymbICPaod04Wu2vcIgqHCqJnHptbV66i1GK5olr0yNWc91nqzJUAWInUyMzz0Xhyx9YD-luRjaeBrkbhL3Ul2XWzlSJ6_cGm9WEW_EKEvBPMIP7SRoKKHN1egBCw61lgR0q7MDQYv4sVzTM-bpIZmSJEehx0o6CiiOpMGS4TDAgXp8UPWH-ZQ3TC4etxIsPSXekKzkMGHiXRBzqnOwWlVig9InoERF_lUm2cYXZS9UI47khIUG9RLsfxy_iTJrAEH6kElXW8FVuAGQ5OKQus6kXdcW_H9dJrzUh8x8CyvzT-Gy6tz-Q5oJac0_acWDpg_igPIBZOhoQ069UCoZZlCB1riqJOkddBs_t00OjAqNJycX9dtOubR2CzfT4HZ965bsA7H5gYlCwYfBrgtUswPuS_vv53b5WrUrM9CnMAkb2zBg6XHmv7PrHlCagrfTTWCXIwt12koevP7vY9ht3ahym_ZedbGGLwIvFtf71JqNnkOOhEb3hqixbZkWPpJq37pt8SfOXvQnoPLbkaqImHnrlP9Mn6UGzLoCCQQUClbagBj6AhyGDl5J6yRgD5RfNQhrSD8uZsWBbDjasey0FarB_v8JzOCKeGvCVn0GbQYOHRrQeHAzDfkfQW0hrX8wAxeFl2ll_qVKaUYMzR1qtTCg60D2KdT98RBQuIo8G4rVkcaJ5pcywtykEE9Dztzs8A84ZYfy4RycmRicDn6XEpedQsXkSeFeSFDVqqlRPonb-8piWQxVx-iIxBe60yTjDqEKvLdT169ys5kOfi35YTnzKVZLSJEX36sjneofGcjX1Mt07cBD_fN4K2fgqMLT-1_HY4Vzk3JUwD6CNpl-7OW2rbJvYauKgCr9pW4Km6eVLCy1rn5kEHmTF0PorW4JCX3s7PiflDy5Ow8H3q1Ws3FGIsSymidPZ7lcBLEdFRaRgSD0BxdPO96jVBq8BkumtdMhFCFF0c4m9BNvU35ZGbCZodqQmCUgax-d8LbxYdcudx52_mFP1a1YCWTefYCB3tBhZP7shIhjGOG1FdykGz3pYf09UDL9xOGfTxctdAJihxe2xcaW9O1PS7octeBkmojvdWWHiTIXpq5tsY0aPVHBX1pSRAzapgFRwgc_ohBmhWTrvtG6yNC-Prj9LsAze_qYVHpzYWhuz_N4nKfPAl2AKoVueW6LZs8VzzL-1PmXdBSLEnOyVgLAuDtP8gRQ3DidQlOYcOmQ_4r5gkhHBIfMFJn-G2yhRf2g-OfX0pqhk7keDo0rZSLv4bcLy4FSeMiI_iXOHUNAcKt-iGKQ3vDsOQMgYwhPSY7UASvpNDeHs52RVGqeYuZcNV70eMQgj7hH1hpWFt7nbredZ__SX7zpwE-uLleOvJhEOU3CU79tf33xVqYojfKTZoXQaavJPlz0_7VZgApmbfJeZLGlMHLeK_M2tUeRNAmgWQ7wZFn5EpdR89VxXK_vaQw0nSe5H3yiIqAGW0dxfBzCmNL2nlPw8LY0CN57MmOMlOw8dUy87bwEgUJbYacYBUEMmqcW1RLMj3ARXK9wWFNiEmeB_Bs9Okw3KjoyUkMO2qSDPyOhnXUQZEXRYOHgA4nWlKi3wHS-Dlm5eG0d0WcmFWMYwkbJ6YHGHoHTs2IwmkC8fUEC3BrDI8sTYxcgwrHoUXeX2MUigzsy_FssWFueHsdz1Gr8iPxopPg40eTkzcMZm3sTyWLoIaqLb4sCRnWWOwrYljTWkYt87VTIvcjltKtMD99AA9l3xXn1D9wvD1mGlAGdDKgpzpMJ72jsRCbeomDHXLT3Krw7M3H5tMj-LoNgkjKkCEKqq6IYutIq3E96LYQ5WHlO-InxzzWxXtYgs7vq1irFGp_ReSzo60yFmz5D70U6ruYctXmZB2yk6Qcu-3jyvE-PonmlVobz92nMYJwsKcBZxLR8L2DHnL8uBtp2PmSsel7kpQahnjiubas9ZdoqVcmRKb\",cRq: '\n",
      " \"{ru: 'aHR0cHM6Ly93d3cuY2Fyb3VzZWxsLmNvbS5oay91L05zc2hldW5nL3Jldmlld3Mv',ra: \"\n",
      " \"'cHl0aG9uLXJlcXVlc3RzLzIuMzEuMA==',rm: 'R0VU',d: \"\n",
      " \"'MQeN16BzosjjiSui2RgSxCu9RU6yQRWG9bmFb6TzmCOrttkY0OT4STuGXE4r7xwAvAbuKyUitUdWIpnSIWc9wNUl6OGmWX5KEEah0E3jFqRWUYApIiSnGeB4T8xaJIE+JOkP6YSqX/LI86mAIbdkS1bNwHycBfF0QXlKAf7Q51GRUppjDRXEyK49qh0FrZXUXmZjfjAMyIGCsm/vMpY7JCVBo5HhjOaXEHucgapnEhoAF0SclbZD5iVs+Qoz8M5dBH5hOMuysKXL8HC0/pRYsKARiMxhQqagvRnlxTwyS3nQdMgFtJoHwOZ01Hj1x3q9WponwYecf1EqcpYi+yJNc/tnijardFkD1oET2Rxeku3JoDSllyL6czMN20BjioHf3HD/2hxiM8DKmUbwyO9C9ts/4mzvYrNBJiKwiw46Ii4E+tuTQIATFEFMCK1lttFx9cA1ixsrmk6VlUS8VugV+JHphcXwXa3bqOIELEmvoZiwpC2/0SagiJRn6/vPB2ihIRwwdajzSlEUz5GTwOlL1391hOR+X1FCCFguO4Xj3WpRcNgPru0FKEGe/IJRKCt5BXmLbSWyqrUxAqnr79KaCamXuxLirjvS8PL7YIGwGj0=',t: \"\n",
      " \"'MTcwNjk4NTIxNC44MzYwMDA=',cT: Math.floor(Date.now() / 1000),m: \"\n",
      " \"'J6IZiAjLOhDGUlNA5NPbzGk3MrNJuilsz/OOYBIy2Ow=',i1: \"\n",
      " \"'b3BA326IZp7sLpv0AASBpg==',i2: 'RwUEQCkXqjIg3fumJCz+fw==',zh: \"\n",
      " \"'wcOOyhtNN0MoukUZB7lQelOuKK2n6xUP9M88o9zWfo4=',uh: \"\n",
      " \"'YE9XOpG5TeHmhA1zfs5mxC8CrRZzq2a/+r+OU7dliYQ=',hh: \"\n",
      " \"'ig4IrPZbLXtlAWz7sKD49A91NZn7xW+ihN0Z29SJQKk=',}};var cpo = \"\n",
      " \"document.createElement('script');cpo.src = \"\n",
      " \"'/cdn-cgi/challenge-platform/h/b/orchestrate/chl_page/v1?ray=84fcc358b9c084cd';window._cf_chl_opt.cOgUHash \"\n",
      " \"= location.hash === '' && location.href.indexOf('#') !== -1 ? '#' : \"\n",
      " \"location.hash;window._cf_chl_opt.cOgUQuery = location.search === '' && \"\n",
      " 'location.href.slice(0, location.href.length - '\n",
      " \"window._cf_chl_opt.cOgUHash.length).indexOf('?') !== -1 ? '?' : \"\n",
      " 'location.search;if (window.history && window.history.replaceState) {var ogU '\n",
      " '= location.pathname + window._cf_chl_opt.cOgUQuery + '\n",
      " 'window._cf_chl_opt.cOgUHash;history.replaceState(null, null, '\n",
      " '\"\\\\/u\\\\/Nssheung\\\\/reviews\\\\/?__cf_chl_rt_tk=TmDoVhG9fLIs9RxGOg9uwsHaQZvgpdxXhUeD4h7hLIg-1706985214-0-gaNycGzNDmU\" '\n",
      " '+ window._cf_chl_opt.cOgUHash);cpo.onload = function() '\n",
      " '{history.replaceState(null, null, '\n",
      " \"ogU);}}document.getElementsByTagName('head')[0].appendChild(cpo);}());</script></body></html>\")\n"
     ]
    }
   ],
   "source": [
    "pprint(searchResp.text)"
   ]
  },
  {
   "cell_type": "code",
   "execution_count": 6,
   "id": "640ed92f",
   "metadata": {},
   "outputs": [
    {
     "name": "stdout",
     "output_type": "stream",
     "text": [
      "None\n"
     ]
    }
   ],
   "source": [
    "user_href = re.match('href.*', searchResp.text)\n",
    "pprint(user_href)"
   ]
  },
  {
   "cell_type": "code",
   "execution_count": 7,
   "id": "9eb0f72e",
   "metadata": {},
   "outputs": [
    {
     "name": "stdout",
     "output_type": "stream",
     "text": [
      "helloworld 123321\n"
     ]
    }
   ],
   "source": [
    "print('helloworld 123321')"
   ]
  },
  {
   "cell_type": "code",
   "execution_count": null,
   "id": "f16862ad",
   "metadata": {},
   "outputs": [],
   "source": []
  }
 ],
 "metadata": {
  "kernelspec": {
   "display_name": "Python 3 (ipykernel)",
   "language": "python",
   "name": "python3"
  },
  "language_info": {
   "codemirror_mode": {
    "name": "ipython",
    "version": 3
   },
   "file_extension": ".py",
   "mimetype": "text/x-python",
   "name": "python",
   "nbconvert_exporter": "python",
   "pygments_lexer": "ipython3",
   "version": "3.12.1"
  }
 },
 "nbformat": 4,
 "nbformat_minor": 5
}
