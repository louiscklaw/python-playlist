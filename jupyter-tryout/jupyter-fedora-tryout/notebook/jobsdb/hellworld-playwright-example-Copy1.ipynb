{
 "cells": [
  {
   "cell_type": "code",
   "execution_count": 2,
   "id": "a7d35b4d-0f9e-438c-bd0b-1aed21363a1d",
   "metadata": {},
   "outputs": [
    {
     "name": "stdout",
     "output_type": "stream",
     "text": [
      "Example Domain\n"
     ]
    }
   ],
   "source": [
    "from playwright.async_api import async_playwright\n",
    "\n",
    "import asyncio\n",
    "import nest_asyncio\n",
    "\n",
    "async def main():\n",
    "\n",
    "  async with async_playwright() as pw:\n",
    "    browser = await pw.chromium.launch(headless=True)\n",
    "    page = await browser.new_page()\n",
    "\n",
    "    await page.goto(\"https://www.example.com\")\n",
    "\n",
    "    await page.wait_for_timeout(1000)\n",
    "\n",
    "    title_element = await page.query_selector(\"title\")\n",
    "    title_text = await title_element.inner_text()\n",
    "    print(title_text)\n",
    "    await page.screenshot(path=\"screenshot.png\", full_page=True)\n",
    "\n",
    "    await browser.close()\n",
    "\n",
    "nest_asyncio.apply()\n",
    "asyncio.run(main())"
   ]
  },
  {
   "cell_type": "code",
   "execution_count": null,
   "id": "31265b18-2390-4038-9e69-af0e437a57f7",
   "metadata": {},
   "outputs": [],
   "source": []
  }
 ],
 "metadata": {
  "kernelspec": {
   "display_name": "Python 3 (ipykernel)",
   "language": "python",
   "name": "python3"
  },
  "language_info": {
   "codemirror_mode": {
    "name": "ipython",
    "version": 3
   },
   "file_extension": ".py",
   "mimetype": "text/x-python",
   "name": "python",
   "nbconvert_exporter": "python",
   "pygments_lexer": "ipython3",
   "version": "3.12.1"
  }
 },
 "nbformat": 4,
 "nbformat_minor": 5
}
