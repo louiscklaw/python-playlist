{
 "cells": [
  {
   "cell_type": "markdown",
   "id": "1b52a52e-16d9-48ec-8d8b-f50fb163a894",
   "metadata": {},
   "source": [
    "# search jobsdb \n",
    "\n",
    "https://hk.jobsdb.com/appium-jobs"
   ]
  },
  {
   "cell_type": "code",
   "execution_count": null,
   "id": "201708e6-6fe2-4760-8eca-051b74d1ea08",
   "metadata": {},
   "outputs": [],
   "source": []
  }
 ],
 "metadata": {
  "kernelspec": {
   "display_name": "Python 3 (ipykernel)",
   "language": "python",
   "name": "python3"
  },
  "language_info": {
   "codemirror_mode": {
    "name": "ipython",
    "version": 3
   },
   "file_extension": ".py",
   "mimetype": "text/x-python",
   "name": "python",
   "nbconvert_exporter": "python",
   "pygments_lexer": "ipython3",
   "version": "3.11.7"
  }
 },
 "nbformat": 4,
 "nbformat_minor": 5
}
