{
 "cells": [
  {
   "cell_type": "code",
   "execution_count": 2,
   "id": "d2024be7-af61-432f-ac8f-9c06de83a391",
   "metadata": {},
   "outputs": [],
   "source": [
    "import os, sys\n",
    "import requests\n",
    "import json\n",
    "\n",
    "def MakeMarkdownString(md_string):\n",
    "    start = '```markdown'\n",
    "    end = '```'\n",
    "    \n",
    "    return start + md_string + end"
   ]
  },
  {
   "cell_type": "code",
   "execution_count": null,
   "id": "3b07d0da-8e43-48a0-a514-3c5e94e58910",
   "metadata": {},
   "outputs": [],
   "source": []
  }
 ],
 "metadata": {
  "kernelspec": {
   "display_name": "Python 3 (ipykernel)",
   "language": "python",
   "name": "python3"
  },
  "language_info": {
   "codemirror_mode": {
    "name": "ipython",
    "version": 3
   },
   "file_extension": ".py",
   "mimetype": "text/x-python",
   "name": "python",
   "nbconvert_exporter": "python",
   "pygments_lexer": "ipython3",
   "version": "3.11.7"
  }
 },
 "nbformat": 4,
 "nbformat_minor": 5
}
