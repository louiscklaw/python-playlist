{
 "cells": [
  {
   "cell_type": "code",
   "execution_count": 1,
   "id": "3a6145ce-86ca-479e-aa33-fe8be7837324",
   "metadata": {},
   "outputs": [],
   "source": [
    "import requests\n",
    "import json\n",
    "from pprint import pprint\n",
    "import random\n",
    "import time\n",
    "import os, sys\n"
   ]
  },
  {
   "cell_type": "code",
   "execution_count": 2,
   "id": "6979fd79-950c-4f87-bbc5-61603c726f32",
   "metadata": {},
   "outputs": [],
   "source": [
    "temp_preprompt = \"\"\n",
    "\n",
    "if os.getenv(\"BEARER\") == \"\":\n",
    "    print(\"authorization is missing\")\n",
    "    sys.exit(1)\n",
    "\n",
    "url = \"https://gptapi.apoidea.ai/v1/conversation/conversations\"\n",
    "headers = {\n",
    "    \"User-Agent\": \"Mozilla/5.0 (X11; Linux x86_64; rv:120.0) Gecko/20100101 Firefox/120.0\",\n",
    "    \"Accept\": \"text/event-stream\",\n",
    "    \"Accept-Language\": \"en-US,en;q=0.5\",\n",
    "    \"Accept-Encoding\": \"gzip, deflate, br\",\n",
    "    \"Referer\": \"https://teamprompt.ai/\",\n",
    "    \"Content-Type\": \"application/json\",\n",
    "    \"Authorization\": os.getenv(\"BEARER\"),\n",
    "    \"Origin\": \"https://teamprompt.ai\",\n",
    "    \"Connection\": \"keep-alive\",\n",
    "    \"Sec-Fetch-Dest\": \"empty\",\n",
    "    \"Sec-Fetch-Mode\": \"cors\",\n",
    "    \"Sec-Fetch-Site\": \"cross-site\",\n",
    "    \"Pragma\": \"no-cache\",\n",
    "    \"Cache-Control\": \"no-cache\",\n",
    "    \"TE\": \"trailers\",\n",
    "}\n"
   ]
  },
  {
   "cell_type": "code",
   "execution_count": 3,
   "id": "006d8bf7-c479-4750-84ec-f6cb2978fbda",
   "metadata": {},
   "outputs": [],
   "source": [
    "\n",
    "def CleanHistory():\n",
    "    response = requests.get(url, headers=headers)\n",
    "    \n",
    "    y = json.loads(response.text)\n",
    "    conversationIds = list(map(lambda x: x[\"conversationId\"], y))\n",
    "    # pprint(y[0]['conversationId'])\n",
    "    \n",
    "    if len(conversationIds) < 1:\n",
    "        print(\"no chat history to clear\")\n",
    "    \n",
    "    for c_id in conversationIds:\n",
    "        delay = random.uniform(0, 0.3)\n",
    "        time.sleep(delay)\n",
    "    \n",
    "        delete_url = (\n",
    "            \"https://gptapi.apoidea.ai/v1/conversation/conversations/{c_id}\".format(\n",
    "                c_id=c_id\n",
    "            )\n",
    "        )\n",
    "        # print(\"clearing {c_id} => {delete_url}\".format(c_id=c_id, delete_url=delete_url))\n",
    "        response = requests.delete(delete_url, headers=headers)\n",
    "        \n",
    "    print(\"clean history done\")"
   ]
  }
 ],
 "metadata": {
  "kernelspec": {
   "display_name": "Python 3 (ipykernel)",
   "language": "python",
   "name": "python3"
  },
  "language_info": {
   "codemirror_mode": {
    "name": "ipython",
    "version": 3
   },
   "file_extension": ".py",
   "mimetype": "text/x-python",
   "name": "python",
   "nbconvert_exporter": "python",
   "pygments_lexer": "ipython3",
   "version": "3.11.7"
  }
 },
 "nbformat": 4,
 "nbformat_minor": 5
}
