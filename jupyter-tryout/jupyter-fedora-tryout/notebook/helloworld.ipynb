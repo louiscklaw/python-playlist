{
 "cells": [
  {
   "cell_type": "code",
   "execution_count": 1,
   "id": "40ab3e7a",
   "metadata": {
    "scrolled": true
   },
   "outputs": [
    {
     "name": "stdout",
     "output_type": "stream",
     "text": [
      "Requirement already satisfied: requests in /usr/local/lib/python3.12/site-packages (2.31.0)\n",
      "Requirement already satisfied: charset-normalizer<4,>=2 in /usr/local/lib/python3.12/site-packages (from requests) (3.3.2)\n",
      "Requirement already satisfied: idna<4,>=2.5 in /usr/local/lib/python3.12/site-packages (from requests) (3.6)\n",
      "Requirement already satisfied: urllib3<3,>=1.21.1 in /usr/local/lib/python3.12/site-packages (from requests) (2.1.0)\n",
      "Requirement already satisfied: certifi>=2017.4.17 in /usr/local/lib/python3.12/site-packages (from requests) (2023.11.17)\n",
      "\u001b[33mWARNING: Running pip as the 'root' user can result in broken permissions and conflicting behaviour with the system package manager. It is recommended to use a virtual environment instead: https://pip.pypa.io/warnings/venv\u001b[0m\u001b[33m\n",
      "\u001b[0m\n",
      "\u001b[1m[\u001b[0m\u001b[34;49mnotice\u001b[0m\u001b[1;39;49m]\u001b[0m\u001b[39;49m A new release of pip is available: \u001b[0m\u001b[31;49m23.2.1\u001b[0m\u001b[39;49m -> \u001b[0m\u001b[32;49m23.3.2\u001b[0m\n",
      "\u001b[1m[\u001b[0m\u001b[34;49mnotice\u001b[0m\u001b[1;39;49m]\u001b[0m\u001b[39;49m To update, run: \u001b[0m\u001b[32;49mpip install --upgrade pip\u001b[0m\n"
     ]
    }
   ],
   "source": [
    "!pip install requests"
   ]
  },
  {
   "cell_type": "code",
   "execution_count": 2,
   "id": "b6bf609f",
   "metadata": {},
   "outputs": [],
   "source": [
    "import copy\n",
    "import requests\n",
    "from pprint import pprint\n",
    "import re"
   ]
  },
  {
   "cell_type": "code",
   "execution_count": 3,
   "id": "9b24b4df",
   "metadata": {},
   "outputs": [],
   "source": [
    "searchURL = 'https://www.carousell.com.hk/u/Nssheung/reviews/'"
   ]
  },
  {
   "cell_type": "code",
   "execution_count": 4,
   "id": "1cc7f2dc",
   "metadata": {},
   "outputs": [],
   "source": [
    "searchResp = requests.get(url=searchURL)"
   ]
  },
  {
   "cell_type": "code",
   "execution_count": 5,
   "id": "e14b2aa1",
   "metadata": {},
   "outputs": [
    {
     "name": "stdout",
     "output_type": "stream",
     "text": [
      "('<!DOCTYPE html><html lang=\"en-US\"><head><title>Just a moment...</title><meta '\n",
      " 'http-equiv=\"Content-Type\" content=\"text/html; charset=UTF-8\"><meta '\n",
      " 'http-equiv=\"X-UA-Compatible\" content=\"IE=Edge\"><meta name=\"robots\" '\n",
      " 'content=\"noindex,nofollow\"><meta name=\"viewport\" '\n",
      " 'content=\"width=device-width,initial-scale=1\"><link '\n",
      " 'href=\"/cdn-cgi/styles/challenges.css\" rel=\"stylesheet\"><meta '\n",
      " 'http-equiv=\"refresh\" content=\"375\"></head><body class=\"no-js\"><div '\n",
      " 'class=\"main-wrapper\" role=\"main\"><div class=\"main-content\"><noscript><div '\n",
      " 'id=\"challenge-error-title\"><div class=\"h2\"><span class=\"icon-wrapper\"><div '\n",
      " 'class=\"heading-icon warning-icon\"></div></span><span '\n",
      " 'id=\"challenge-error-text\">Enable JavaScript and cookies to '\n",
      " 'continue</span></div></div></noscript></div></div><script>(function(){window._cf_chl_opt={cvId: '\n",
      " '\\'3\\',cZone: \"www.carousell.com.hk\",cType: \\'managed\\',cNounce: '\n",
      " \"'50654',cRay: '848da105cea41056',cHash: '8beda38280c0707',cUPMDTk: \"\n",
      " '\"\\\\/u\\\\/Nssheung\\\\/reviews\\\\/?__cf_chl_tk=pSSmMWxwVdW0PfDLJJeeQVTVq_uaXpz3xqYuCMzqrOI-1705819889-0-gaNycGzNCzs\",cFPWv: '\n",
      " \"'b',cTTimeMs: '1000',cMTimeMs: '375000',cTplV: 5,cTplB: 'cf',cK: \"\n",
      " '\"visitor-time\",fa: '\n",
      " '\"\\\\/u\\\\/Nssheung\\\\/reviews\\\\/?__cf_chl_f_tk=pSSmMWxwVdW0PfDLJJeeQVTVq_uaXpz3xqYuCMzqrOI-1705819889-0-gaNycGzNCzs\",md: '\n",
      " '\"0H0wXtiBUqchJ.3BATRP5Wit8LKgC..P8Pm7vlcvP.I-1705819889-1-AUE_y1TQWKTcU47WXKzJ9cfkBeGI1vXqTkYhiCsxaFuy3T4IILQKgYuwDrVUycZw96mViSM_N_9nGQhkjnicGT16scBciPtfkFm9uPOmTonLiwGwslW3RF0fPWpvd2yh-2tUsQmwj0_lejqoTkezdhjSxokjmOvjbTYzfdVQmIh4XT_rVNsP450yqx3I72OKbQK1tGpAJCO4ydd5tZBk9ftUmgzhClGLxGhxwu0JRU3WTFPiYrBXWH7ZKLvgbikJP3PSR7MX5EFf9NaepA7G_xW8rpcyTbYBzXjwbyDuxsJabLfWKQBw_haiTvRCC4sNjCMTpVixIuxsp6G8p99Q2Ru3fb84jIs3wgvAOpLjJ5SE-Nyz_hPm0H3LnPcDisRJccalQAgtI-_LcE2bXuIkOkKe5a0D5q4AOVTzrVOTADNLRelqT1xZSL3s4LoeotzJEfd-1W3lr4W4Pl85h0-ASZ7LFQIvJl5xB28FER5ZCp_ebdeLRHGvnO0_av02iF6QjcsAc-NGZajvLQYXy-4G0WjbPmzCkQaxIBMzpTuW0FS-17I-2yUDm4TpKNBRgVId4pzn-w5NFCRQm9C5WjT1aVRWnMDOFAn0Otp1gLdUW55C5H4kq6HOUlLogNV0LbjT2t15hnD86x79g7QZyCdU5-Lx_ibsVHOF5xwyOjVXSVnjkgwOEu-o-NrKfUjA_tzjKSiiT_Kzaabg2IxSbQ0zzBc9JU2aA1iAcWmmgzWn5-GMApx_1RpZiDkDtnCRhbw5QnWHqxi5QMCpl_DFsYWwo4c2HkrlCQEQJC_2gW5J6dkk7JdyxTL_Y08Zrpfg1gx85yjF8n5jbHtwguRk9tO-b5cH3BkhTtRl2LVApmLcSEpPkHSNPUAl-Pu1TJ890n5Hgy9dk7vLuenMHwDvKlQrQyPTnRXojphKhLg4MEYBOMAINDKDKop4qK1b_NLEAEhPvx05bZ2wFOIZlzOz5OBXLDZQ1U7YnqMJB8dVOlkdwxUop6KF8rTP-IYJxWdjnk-U7IUU5PQ1KfIf_k2HhricK9BWvFHESnfvcQR-lSKF2W-yTrUgHi-XnA_aQFNiWXIVKtlnZT-EI4ILoPie329zltc2SF8gOTnf6C6bPNgeyz2HMa844MVPNvcwVBMK8nclZ9AR_K8nE3pJ_EJ3yA_wjA5bEcKfMX_GEcUtM-zqK2g3naO4vzylXXpv1dCMbKfopa3AkWFHjVMbt3biCJFFZonizunZSIsdmW7-iozp4Q_TijLg-YziVMnACm38bka30JcXfYXAJ_wHIRVuSuXq65xwulLt35cJDu8e1I5rgWDcyTozzuCei8uPMr3CwmF3LjjTruQNMsQIr-h9udKDynPVG8ngRDHrp4Dq87DYMy8umdElpRDgEPhHdEnA9QS_KW7LTCUdxrH8HIepxh2BL6CjuukO91ZrnPQWk0hphSbOL12WNrJwEIWf7Y4YLg3d9djv-FIJNxgfoA9qISn5yotQYKtkpA3-CeqaMtlTkNA6qJr55V5Zud2nHDy7i_ODQy9cAKhABYHZHSZNIC5K4GRm33cD16NbxJPuEU0GBz4IfkB71FS40B72mlRWFAMbD1T5GERqozjRckXlxE_oE3dIuFV_95ZxWVpBsBhSW6YktLI01wHAfkGQWDi7pcKRMFVeO-YCss7vGysoHptP3NMum0aMRR8oGl2f4qdbi5U7RLjsDtZR2V7zHWwAWUyJNkYIpxxCrVF8sY91gKPqYOqpa9sfU2s2wlaFqsqbDiJdPK83t4JlpMiXojnsCHWBtJyp0wuNgubzEYI9pIGtCxc9f85xwe9k0oOm7I9PGzo0og1VgE5kn17HrQg_u-VWQE8uKy4PmeNPdGSqp0BF40Bc8hW_Rr2HZyXBa3v8XWK3kpI3KuSX4atzlJ-D61sXqZp91IB7wX27_R3NiiHTHXejOFZoSybshxWRTHGw0ERthBtQpC-JTGqIabFkCA24JuBZWSCp4To_4_vAMtuUIUYpyGUrl-kxG4xfYRQpmKV4mF3w-u5q3PvshhKNQQH95ZSwBgYwaJIU4ey-iTpz5DSsYeG_fbuFDU48xyMWSl9jlbMSWmva53nER5Zd5FQ-a4gfp9XMNBMOYuWSD0b38gHc4Aem7On5YUYxSqqQsxV1FKnC_Q8TgD0LZobI-NUr4x_e-WrdoYfV9uq_Zlpg302_cOb3Qi8L3DOJQy_mPjf7ExCZpMRuGgq5PlGH9R8Sd24X5lvKpff8RQkQ1GBq_3nTNo938pL5w7vcEqym-1BrcqzxqNj4lZLRmxNmyWufH0Q-I8betFspjTM5uAz8-u03_ZrFRwh4Lf4f7U1b9aKtli9OV05F2UkJD0elWR-1NeHDr3dePOAt88Mq97met_1PKpgjIeMgRc-LzMBcmK6VbAiwNqiCD0KklmYSfTRQGT-bvj24wXm_r5T6mSm1zAWbqADZSaKIn2ZOdK1sbKwqnaY1Mgk-C_W7sGBEn3VF0IGyE6BDBdvpwizjyWHdVfxNPmRRjsPr_OrmUZsjNgkxdVIWfoeaBf0U6Rz7Htx9vph4jO3O0dlJ654Rm-kiLN5Ab6WYbmGV4W6t1fq5g0QXXQaHZDRHblfN8M7FBuAKpfeyel34kWmNDnjjo_y489W8_wp1FLUgZbdscmbOur6xIFpqtnH40ljidT8mIDwFK7ge1dQSA4egtluMH3fyFitDD4L7PV3pROFt6jzqC4ygkHQDwhAvk6WRNfaIk2aSAoE6hSmydzX-LE7RF4uMp44n-3bxDQS_R8rP-dDU42qWrU5tMlY-qU0xT2vSFqbkMw\",cRq: '\n",
      " \"{ru: 'aHR0cHM6Ly93d3cuY2Fyb3VzZWxsLmNvbS5oay91L05zc2hldW5nL3Jldmlld3Mv',ra: \"\n",
      " \"'cHl0aG9uLXJlcXVlc3RzLzIuMzEuMA==',rm: 'R0VU',d: \"\n",
      " \"'cXXeNvPG+xpTIJNKywSFooaU2Q9lEDexvUhUXGOHjN99eede6aE8zlD+/VyLPu6/4fWMo1Ise/mcabCjMUFpsrz2P8GikEpfa+R3+KwBbPLBNbZvDgiYNmu3oHPrT0ouenAPTtsPLyIvxc1x2Ixr02tJOjUVftU+NFin81n5WSgia7xy6OU8Nof9VcEy+4E6FTKKNCiw7Nhm+q7b5DdOjjWnrxN61cPTZck6yOdedg8ef2mr9pfDfZX2dXpafDWbc0SHkEV6iBDALKY+UUnYhdpnAy1OVEnGAtUpuUvCF43U9N9894/UNBmmSHLJnIse79iGUPTMZxqc1oYnIhJxhgonmE8W9UjeVCEo4lkpeYXKmQoR4t4OarSJxM9oQ/cIKOvsOy3ppY8S37UXgExyXpLQAipw+nEZsYHEyzLz8TZknIdEMFbo4Rqt8azkNOhKh0VQ5sjr+weWCFa81n2vHO7rSGUa/bG/7LawJjFt5s/m84CSBE29NQK/Vel5VBgXWeohn1j6CBKzsQp0J0PjLW27Gzn0SDGetOebxKVtEDXar4klzXRpfeHZWnMrYLBnLGJhmEnEkxX1MHAfmOU8yyhS1FHsJL1LQPTHBGEAmY0=',t: \"\n",
      " \"'MTcwNTgxOTg4OS41ODEwMDA=',cT: Math.floor(Date.now() / 1000),m: \"\n",
      " \"'ZKwRQQoZeqgqoZ90sDBvV+pbHjYyk/URPUcXvu4Lhks=',i1: \"\n",
      " \"'HEFcOC5f2dtQGCpTUC6H1w==',i2: 'noDksyOOSaf4uHnReepNiQ==',zh: \"\n",
      " \"'wcOOyhtNN0MoukUZB7lQelOuKK2n6xUP9M88o9zWfo4=',uh: \"\n",
      " \"'YE9XOpG5TeHmhA1zfs5mxC8CrRZzq2a/+r+OU7dliYQ=',hh: \"\n",
      " \"'ig4IrPZbLXtlAWz7sKD49A91NZn7xW+ihN0Z29SJQKk=',}};var cpo = \"\n",
      " \"document.createElement('script');cpo.src = \"\n",
      " \"'/cdn-cgi/challenge-platform/h/b/orchestrate/chl_page/v1?ray=848da105cea41056';window._cf_chl_opt.cOgUHash \"\n",
      " \"= location.hash === '' && location.href.indexOf('#') !== -1 ? '#' : \"\n",
      " \"location.hash;window._cf_chl_opt.cOgUQuery = location.search === '' && \"\n",
      " 'location.href.slice(0, location.href.length - '\n",
      " \"window._cf_chl_opt.cOgUHash.length).indexOf('?') !== -1 ? '?' : \"\n",
      " 'location.search;if (window.history && window.history.replaceState) {var ogU '\n",
      " '= location.pathname + window._cf_chl_opt.cOgUQuery + '\n",
      " 'window._cf_chl_opt.cOgUHash;history.replaceState(null, null, '\n",
      " '\"\\\\/u\\\\/Nssheung\\\\/reviews\\\\/?__cf_chl_rt_tk=pSSmMWxwVdW0PfDLJJeeQVTVq_uaXpz3xqYuCMzqrOI-1705819889-0-gaNycGzNCzs\" '\n",
      " '+ window._cf_chl_opt.cOgUHash);cpo.onload = function() '\n",
      " '{history.replaceState(null, null, '\n",
      " \"ogU);}}document.getElementsByTagName('head')[0].appendChild(cpo);}());</script></body></html>\")\n"
     ]
    }
   ],
   "source": [
    "pprint(searchResp.text)"
   ]
  },
  {
   "cell_type": "code",
   "execution_count": 6,
   "id": "640ed92f",
   "metadata": {},
   "outputs": [
    {
     "name": "stdout",
     "output_type": "stream",
     "text": [
      "None\n"
     ]
    }
   ],
   "source": [
    "user_href = re.match('href.*', searchResp.text)\n",
    "pprint(user_href)"
   ]
  },
  {
   "cell_type": "code",
   "execution_count": 7,
   "id": "9eb0f72e",
   "metadata": {},
   "outputs": [
    {
     "name": "stdout",
     "output_type": "stream",
     "text": [
      "helloworld 123321\n"
     ]
    }
   ],
   "source": [
    "print('helloworld 123321')"
   ]
  },
  {
   "cell_type": "code",
   "execution_count": null,
   "id": "1a332d6f",
   "metadata": {},
   "outputs": [],
   "source": []
  }
 ],
 "metadata": {
  "kernelspec": {
   "display_name": "Python 3 (ipykernel)",
   "language": "python",
   "name": "python3"
  },
  "language_info": {
   "codemirror_mode": {
    "name": "ipython",
    "version": 3
   },
   "file_extension": ".py",
   "mimetype": "text/x-python",
   "name": "python",
   "nbconvert_exporter": "python",
   "pygments_lexer": "ipython3",
   "version": "3.12.1"
  }
 },
 "nbformat": 4,
 "nbformat_minor": 5
}
