{
 "cells": [
  {
   "cell_type": "code",
   "execution_count": 5,
   "id": "cf6722cd-2625-4c74-be4d-b7c73958d0ea",
   "metadata": {},
   "outputs": [],
   "source": [
    "import os, sys\n",
    "import requests\n",
    "import json\n",
    "from Helloworld import SendQuestion\n",
    "from IPython.display import display, Markdown, Latex\n",
    "\n",
    "BEARER = os.getenv(\"BEARER\",'not found')"
   ]
  },
  {
   "cell_type": "code",
   "execution_count": 6,
   "id": "40aad7d9-93e5-476c-9cde-43e4f6fa8b40",
   "metadata": {},
   "outputs": [],
   "source": [
    "preprompt='''\n",
    "do only what i told\n",
    "'''.strip()"
   ]
  },
  {
   "cell_type": "code",
   "execution_count": 7,
   "id": "401ef64d-8200-4c34-ae8f-0af0933f34b7",
   "metadata": {},
   "outputs": [
    {
     "data": {
      "text/markdown": [
       "To display \"hello\" in bold format using Markdown, you can surround the text with double asterisks (`**`). Here's how you would do it: \n",
       "\n",
       "```markdown\n",
       "**hello**\n",
       "```\n",
       "\n",
       "This will render as **hello** when displayed in Markdown."
      ],
      "text/plain": [
       "<IPython.core.display.Markdown object>"
      ]
     },
     "metadata": {},
     "output_type": "display_data"
    }
   ],
   "source": [
    "result = SendQuestion(BEARER,preprompt)\n",
    "\n",
    "result = SendQuestion(BEARER,'show hello in markdown bold fomat')['text']\n",
    "display(Markdown(result))\n"
   ]
  }
 ],
 "metadata": {
  "kernelspec": {
   "display_name": "Python 3 (ipykernel)",
   "language": "python",
   "name": "python3"
  },
  "language_info": {
   "codemirror_mode": {
    "name": "ipython",
    "version": 3
   },
   "file_extension": ".py",
   "mimetype": "text/x-python",
   "name": "python",
   "nbconvert_exporter": "python",
   "pygments_lexer": "ipython3",
   "version": "3.11.7"
  }
 },
 "nbformat": 4,
 "nbformat_minor": 5
}
