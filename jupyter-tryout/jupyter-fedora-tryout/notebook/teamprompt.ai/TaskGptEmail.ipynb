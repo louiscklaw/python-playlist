{
 "cells": [
  {
   "cell_type": "code",
   "execution_count": 1,
   "id": "a6188681-141d-4e54-b9bf-e97213e25c67",
   "metadata": {},
   "outputs": [],
   "source": [
    "#!/usr/bin/env bash\n",
    "import os, sys\n",
    "import requests\n",
    "import json\n",
    "from IPython.display import display, Markdown, Latex\n",
    "\n",
    "%run CleanHistory.ipynb\n",
    "%run utils/MakeMarkdownString.ipynb\n",
    "\n",
    "from SendQuestion import TeamPromptAi\n",
    "# from SendQuestion import SendQuestion, TeamPromptAi\n",
    "\n",
    "# from pprint import pprint"
   ]
  },
  {
   "cell_type": "code",
   "execution_count": 2,
   "id": "69fbec20-0382-4a00-bb92-06a02e8708c0",
   "metadata": {},
   "outputs": [
    {
     "name": "stdout",
     "output_type": "stream",
     "text": [
      "clean history done\n"
     ]
    }
   ],
   "source": [
    "BEARER = os.getenv(\"BEARER\",'not found')\n",
    "\n",
    "temp_email_preprompt =''\n",
    "temp_job_highlight =''\n",
    "temp_candidate_background =''\n",
    "email_json = {}\n",
    "explain_json={}\n",
    "\n",
    "if BEARER == \"\":\n",
    "    print(\"authorization is missing\")\n",
    "    sys.exit(1)\n",
    "\n",
    "with open(\"./_input/general_preprompt.md\", \"r\") as f_general_preprompt:\n",
    "    temp_general_preprompt = \"\".join(f_general_preprompt.readlines())\n",
    "\n",
    "with open(\"./_input/email_preprompt.md\", \"r\") as f_email_preprompt:\n",
    "    temp_email_preprompt = \"\".join(f_email_preprompt.readlines())\n",
    "\n",
    "with open(\"./_input/job_highlight.md\", \"r\") as f_job_highlight:\n",
    "    temp_job_highlight = \"\".join(f_job_highlight.readlines())\n",
    "\n",
    "with open(\"./_input/candidate_background.md\", \"r\") as f_candidate_background:\n",
    "    temp_candidate_background = \"\".join(f_candidate_background.readlines())\n",
    "\n",
    "CleanHistory()\n",
    "tp_session = TeamPromptAi()\n",
    "\n",
    "# init bot\n",
    "init_bot_result = tp_session.SendQuestion(BEARER,temp_general_preprompt)\n",
    "# init_bot_result = tp_session.SendQuestion(BEARER,'what are you made for?')\n",
    "# init_bot_result['text']\n",
    "\n",
    "# send job highlight\n",
    "result = tp_session.SendQuestion(BEARER,\n",
    "('''\n",
    "Remember text below as job highlight and reply \"OK\"\n",
    "\n",
    "Text: \"\"\"\n",
    "{content}\n",
    "\"\"\"\n",
    "''').format(content=MakeMarkdownString(temp_job_highlight))\n",
    "                                )\n",
    "\n",
    "# send candiate background\n",
    "tp_session.SendQuestion(BEARER,\n",
    "('''\n",
    "Remember text below as job-applicant background and reply \"OK\"\n",
    "Text: \"\"\"\n",
    "{content}\n",
    "\"\"\"\n",
    "''').format(content=MakeMarkdownString(temp_candidate_background))\n",
    ")\n",
    "\n",
    "# # # send email requirement\n",
    "# explain_json = tp_session.SendQuestion(BEARER,\n",
    "# '''\n",
    "# what is the job requirement ?\n",
    "# ''')\n",
    "# display(Markdown(explain_json['text']))\n",
    "\n",
    "# # send email requirement\n",
    "# explain_json = tp_session.SendQuestion(BEARER,\n",
    "# '''\n",
    "# what the relation of job applicant background and the job requirement ?\n",
    "# ''')\n",
    "# display(Markdown(explain_json['text']))\n",
    "\n",
    "# send email requirement\n",
    "tp_session.SendQuestion(BEARER,\n",
    "('''\n",
    "Remember text below as email requirement and reply \"OK\"\n",
    "Text: \"\"\"\n",
    "{content}\n",
    "\"\"\"\n",
    "''').format(content=MakeMarkdownString(temp_email_preprompt))\n",
    ")\n",
    "\n",
    "\n",
    "email_json = tp_session.SendQuestion(BEARER,\n",
    "'''draft me a email'''\n",
    ")\n",
    "\n"
   ]
  },
  {
   "cell_type": "code",
   "execution_count": 3,
   "id": "a8c42cc0-8165-40fa-8e7d-0ec87e6bc717",
   "metadata": {},
   "outputs": [
    {
     "data": {
      "text/markdown": [
       "Subject:\n",
       "\n",
       "### Application for QA/Tester Position at [Company Name]\n",
       "\n",
       "Dear Hiring Manager,\n",
       "\n",
       "I hope this email finds you well. I am writing to express my interest in the QA/Tester position at [Company Name], as advertised on JobsDB. With my strong background in telecom and software industry, along with my passion for software testing and quality assurance, I believe I would be a valuable addition to your team.\n",
       "\n",
       "Over the past 10 years, I have gained extensive experience in the telecom and software industry, working with companies such as China Mobile Hong Kong, Sierra Wireless, and Tinklabs. My educational background in Electronic and Communication Engineering from City University of Hong Kong has provided me with a solid foundation in technical skills.\n",
       "\n",
       "I am confident in my abilities in manual and automation testing, using tools such as Java, Python, Selenium, Appium, and Postman. I have successfully executed test cases, conducted defect tracking, and provided solutions for system improvement. Additionally, I am detail-oriented, responsible, and a good team player.\n",
       "\n",
       "Beyond my professional experience, I am constantly seeking opportunities for growth and development. In my free time, I engage in various software projects using technologies such as React, GatsbyJS, PHP, C++, Python, and Appium. I also have experience with hardware/electronic projects involving Arduino and Raspberry Pi. My GitHub page showcases some of my work: [GitHub Page](https://louiscklaw.github.io)\n",
       "\n",
       "I am excited about the opportunity to contribute to [Company Name] and its sizeable team. The prospect of training at PRC is particularly appealing to me as it aligns with my commitment to continuous learning.\n",
       "\n",
       "Thank you for considering my application. I have attached my resume for your review. Please feel free to contact me if you require any further information or if you would like to schedule an interview.\n",
       "\n",
       "Best Regards,\n",
       "\n",
       "Louis C.K. Law\n",
       "\n",
       "[GitHub Page](https://louiscklaw.github.io)\n",
       "\n",
       "<sub>\n",
       "*Please be informed that this email generated by GPT engine for exploration, demo purpose and fine-tuned by me. \n",
       "source code: (https://github.com/louiscklaw/ai-playlist/tree/master/teamprompt-tryout/chatgpt-gen-cv)\n",
       "</sub>"
      ],
      "text/plain": [
       "<IPython.core.display.Markdown object>"
      ]
     },
     "metadata": {},
     "output_type": "display_data"
    }
   ],
   "source": [
    "display(Markdown(email_json['text']))"
   ]
  }
 ],
 "metadata": {
  "kernelspec": {
   "display_name": "Python 3 (ipykernel)",
   "language": "python",
   "name": "python3"
  },
  "language_info": {
   "codemirror_mode": {
    "name": "ipython",
    "version": 3
   },
   "file_extension": ".py",
   "mimetype": "text/x-python",
   "name": "python",
   "nbconvert_exporter": "python",
   "pygments_lexer": "ipython3",
   "version": "3.11.7"
  }
 },
 "nbformat": 4,
 "nbformat_minor": 5
}
