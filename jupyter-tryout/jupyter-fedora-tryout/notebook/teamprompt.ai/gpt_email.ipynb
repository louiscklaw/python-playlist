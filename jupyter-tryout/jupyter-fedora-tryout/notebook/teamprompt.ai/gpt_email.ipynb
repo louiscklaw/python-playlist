{
 "cells": [
  {
   "cell_type": "code",
   "execution_count": 1,
   "id": "cf6722cd-2625-4c74-be4d-b7c73958d0ea",
   "metadata": {},
   "outputs": [],
   "source": [
    "import os, sys\n",
    "import requests\n",
    "import json\n",
    "from Helloworld import SendQuestion\n",
    "from IPython.display import display, Markdown, Latex\n",
    "\n",
    "BEARER = os.getenv(\"BEARER\",'not found')"
   ]
  },
  {
   "cell_type": "code",
   "execution_count": 3,
   "id": "401ef64d-8200-4c34-ae8f-0af0933f34b7",
   "metadata": {},
   "outputs": [
    {
     "data": {
      "text/markdown": [
       "To display \"hello\" in bold format using Markdown, you can surround the word with double asterisks or double underscores. Here's how:\n",
       "\n",
       "**hello**\n",
       "\n",
       "or\n",
       "\n",
       "__hello__"
      ],
      "text/plain": [
       "<IPython.core.display.Markdown object>"
      ]
     },
     "metadata": {},
     "output_type": "display_data"
    }
   ],
   "source": [
    "SendQuestion(BEARER,preprompt)\n",
    "\n",
    "result = SendQuestion(BEARER,'show hello in markdown bold fomat')['text']\n",
    "display(Markdown(result))\n"
   ]
  }
 ],
 "metadata": {
  "kernelspec": {
   "display_name": "Python 3 (ipykernel)",
   "language": "python",
   "name": "python3"
  },
  "language_info": {
   "codemirror_mode": {
    "name": "ipython",
    "version": 3
   },
   "file_extension": ".py",
   "mimetype": "text/x-python",
   "name": "python",
   "nbconvert_exporter": "python",
   "pygments_lexer": "ipython3",
   "version": "3.11.7"
  }
 },
 "nbformat": 4,
 "nbformat_minor": 5
}
