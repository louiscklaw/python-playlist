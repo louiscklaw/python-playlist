{
 "cells": [
  {
   "cell_type": "code",
   "execution_count": 2,
   "id": "a51ef9d0-6511-44b5-9ef6-2e714da108e0",
   "metadata": {},
   "outputs": [
    {
     "ename": "ModuleNotFoundError",
     "evalue": "No module named 'CleanHistory'",
     "output_type": "error",
     "traceback": [
      "\u001b[0;31m---------------------------------------------------------------------------\u001b[0m",
      "\u001b[0;31mModuleNotFoundError\u001b[0m                       Traceback (most recent call last)",
      "Cell \u001b[0;32mIn[2], line 10\u001b[0m\n\u001b[1;32m      7\u001b[0m \u001b[38;5;28;01mfrom\u001b[39;00m \u001b[38;5;21;01mIPython\u001b[39;00m\u001b[38;5;21;01m.\u001b[39;00m\u001b[38;5;21;01mdisplay\u001b[39;00m \u001b[38;5;28;01mimport\u001b[39;00m display, Markdown, Latex\n\u001b[1;32m      9\u001b[0m \u001b[38;5;28;01mfrom\u001b[39;00m \u001b[38;5;21;01mconst\u001b[39;00m \u001b[38;5;28;01mimport\u001b[39;00m url, headers\n\u001b[0;32m---> 10\u001b[0m \u001b[38;5;28;01mfrom\u001b[39;00m \u001b[38;5;21;01mCleanHistory\u001b[39;00m \u001b[38;5;28;01mimport\u001b[39;00m CleanHistory\n",
      "\u001b[0;31mModuleNotFoundError\u001b[0m: No module named 'CleanHistory'"
     ]
    }
   ],
   "source": [
    "#!/usr/bin/env python3\n",
    "\n",
    "import os, sys\n",
    "from pprint import pprint\n",
    "import requests\n",
    "import json\n",
    "from IPython.display import display, Markdown, Latex\n",
    "\n",
    "from const import url, headers\n",
    "from Helloworld import SendQuestion\n",
    "\n",
    "%run CleanHistory.ipynb"
   ]
  },
  {
   "cell_type": "code",
   "execution_count": null,
   "id": "3c1a9e0d-c90d-4bb5-918a-763496fa511a",
   "metadata": {},
   "outputs": [],
   "source": [
    "temp_preprompt = \"\"\n",
    "\n",
    "task = \"\"\"\n",
    "suggest me a frontmatter with the job description above\n",
    "\"\"\".strip()\n",
    "\n",
    "if os.getenv(\"BEARER\") == \"\":\n",
    "    print(\"authorization is missing\")\n",
    "    sys.exit(1)\n",
    "\n",
    "with open(\"./_input/frontmatter_preprompt.md\", \"r\") as f_frontmatter_preprompt:\n",
    "    temp_frontmatter_preprompt = \"\".join(f_frontmatter_preprompt.readlines())\n",
    "\n",
    "with open(\"./_input/job_highlight.md\", \"r\") as f_job_highlight:\n",
    "    temp_job_highlight = \"\".join(f_job_highlight.readlines())\n",
    "\n",
    "data = {\n",
    "    \"prompt\": temp_frontmatter_preprompt + \"\\n\" + temp_job_highlight + \"\\n\" + task,\n",
    "    \"stream\": False,\n",
    "}"
   ]
  },
  {
   "cell_type": "code",
   "execution_count": null,
   "id": "787f4a54-b726-4bb4-a684-6bfbb94510a1",
   "metadata": {},
   "outputs": [],
   "source": [
    "response = requests.post(url, headers=headers, json=data)\n",
    "\n",
    "y = json.loads(response.text)\n",
    "display(Markdown(y[\"text\"]))\n",
    "\n"
   ]
  }
 ],
 "metadata": {
  "kernelspec": {
   "display_name": "Python 3 (ipykernel)",
   "language": "python",
   "name": "python3"
  },
  "language_info": {
   "codemirror_mode": {
    "name": "ipython",
    "version": 3
   },
   "file_extension": ".py",
   "mimetype": "text/x-python",
   "name": "python",
   "nbconvert_exporter": "python",
   "pygments_lexer": "ipython3",
   "version": "3.11.7"
  }
 },
 "nbformat": 4,
 "nbformat_minor": 5
}
