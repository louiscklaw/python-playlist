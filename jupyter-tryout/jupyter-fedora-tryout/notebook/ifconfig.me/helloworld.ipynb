{
 "cells": [
  {
   "cell_type": "code",
   "execution_count": null,
   "id": "e705b077-f821-4127-a2f6-a2d9479fd950",
   "metadata": {},
   "outputs": [],
   "source": [
    "import os,sys, re, json\n",
    "from pprint import pprint\n",
    "\n",
    "import requests\n",
    "\n",
    "url = 'https://ifconfig.me/ip'\n",
    "headers = {\n",
    "    'accept': 'text/event-stream',\n",
    "    'authority': 'gptapi.apoidea.ai',\n",
    "    'accept-language': 'en-US,en;q=0.9,zh-HK;q=0.8,zh-TW;q=0.7,zh;q=0.6',\n",
    "    'cache-control': 'no-cache',\n",
    "    'content-type': 'application/json',\n",
    "    'origin': 'https://teamprompt.ai',\n",
    "    'pragma': 'no-cache',\n",
    "    'referer': 'https://teamprompt.ai/',\n",
    "    'sec-ch-ua': '\"Not A(Brand\";v=\"99\", \"Google Chrome\";v=\"121\", \"Chromium\";v=\"121\"',\n",
    "    'sec-ch-ua-mobile': '?0',\n",
    "    'sec-ch-ua-platform': '\"Linux\"',\n",
    "    'sec-fetch-dest': 'empty',\n",
    "    'sec-fetch-mode': 'cors',\n",
    "    'sec-fetch-site': 'cross-site',\n",
    "    'user-agent': 'Mozilla/5.0 (X11; Linux x86_64) AppleWebKit/537.36 (KHTML, like Gecko) Chrome/121.0.0.0 Safari/537.36'\n",
    "}\n",
    "\n",
    "\n",
    "response = requests.get(url, headers=headers)\n",
    "pprint(response.text)"
   ]
  }
 ],
 "metadata": {
  "kernelspec": {
   "display_name": "Python 3 (ipykernel)",
   "language": "python",
   "name": "python3"
  }
 },
 "nbformat": 4,
 "nbformat_minor": 5
}
